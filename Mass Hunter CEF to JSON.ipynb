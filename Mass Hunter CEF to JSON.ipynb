{
 "cells": [
  {
   "cell_type": "code",
   "execution_count": 24,
   "metadata": {},
   "outputs": [
    {
     "ename": "NameError",
     "evalue": "name 'directory' is not defined",
     "output_type": "error",
     "traceback": [
      "\u001b[1;31m---------------------------------------------------------------------------\u001b[0m",
      "\u001b[1;31mNameError\u001b[0m                                 Traceback (most recent call last)",
      "\u001b[1;32m<ipython-input-24-ff49330ab9ff>\u001b[0m in \u001b[0;36m<module>\u001b[1;34m\u001b[0m\n\u001b[0;32m      5\u001b[0m \u001b[1;31m# Directory containing all your cef files\u001b[0m\u001b[1;33m\u001b[0m\u001b[1;33m\u001b[0m\u001b[1;33m\u001b[0m\u001b[0m\n\u001b[0;32m      6\u001b[0m \u001b[1;33m\u001b[0m\u001b[0m\n\u001b[1;32m----> 7\u001b[1;33m \u001b[0min_dir\u001b[0m \u001b[1;33m=\u001b[0m \u001b[1;33m{\u001b[0m\u001b[0mdirectory\u001b[0m\u001b[1;33m}\u001b[0m\u001b[1;33m\u001b[0m\u001b[1;33m\u001b[0m\u001b[0m\n\u001b[0m\u001b[0;32m      8\u001b[0m \u001b[1;33m\u001b[0m\u001b[0m\n\u001b[0;32m      9\u001b[0m \u001b[1;33m\u001b[0m\u001b[0m\n",
      "\u001b[1;31mNameError\u001b[0m: name 'directory' is not defined"
     ]
    }
   ],
   "source": [
    "import json\n",
    "import glob\n",
    "\n",
    "# Author: Travis Simmons\n",
    "# Date: 11/3/2020\n",
    "# Project: Extract identified compounds and relevant measurments from cef files\n",
    "#          outputted by the 'Agilent MassHunter'\n",
    "\n",
    "# Directory containing all your cef files\n",
    "\n",
    "in_dir = {directory}\n",
    "\n",
    "\n",
    "\n",
    "files = glob.glob(in_dir+'\\*cef')\n",
    "print(files)\n",
    "\n",
    "end_dict = {}\n",
    "\n",
    "\n",
    "for file in files:\n",
    "    print(file)\n",
    "    with open(file, 'r') as f:\n",
    "        data = [line.strip() for line in f]\n",
    "\n",
    "    data[:] = [x for x in data if x != '']\n",
    "\n",
    "\n",
    "\n",
    "    samples = {}\n",
    "\n",
    "    for index, row in enumerate(data):\n",
    "        try:\n",
    "            if row.startswith('<Compound algo') & data[index+2].startswith('<Results>'):\n",
    "                database = {}\n",
    "                experimental = {}\n",
    "\n",
    "\n",
    "                # Looking for the peaks data for the found compound\n",
    "                found_peaks = []\n",
    "                for a, b in enumerate(data[index+13:]):            \n",
    "                    if b.startswith('</MSPeaks>'):\n",
    "                        print('break')\n",
    "                        break\n",
    "                    found_peaks.append(b)\n",
    "\n",
    "                # looking for the peaks data for the experimental results\n",
    "                experimental_peaks = []\n",
    "                for i,r in enumerate(data[index:]):\n",
    "                    if r.startswith('<p rt'):\n",
    "                        stats = r\n",
    "                        start_ex = i\n",
    "\n",
    "                        print(start_ex+index+1)\n",
    "                        break\n",
    "                for x, y in enumerate(data[start_ex+index+7:]):\n",
    "    #                         print(y)\n",
    "                    if y.startswith('</MSPeaks>'):\n",
    "                                break\n",
    "                    experimental_peaks.append(y)\n",
    "\n",
    "                database['peaks'] = found_peaks\n",
    "                experimental['peaks'] = experimental_peaks\n",
    "\n",
    "                database['rt'] = data[index+1]\n",
    "                experimental['rt'] = stats\n",
    "\n",
    "                samples[f'{data[index+3]}'] = [database,experimental]\n",
    "        except:\n",
    "            pass    \n",
    "\n",
    "    end_dict[f'{file}'] = samples\n",
    "\n",
    "with open('cfe_test_multi_cef.json', 'w') as outfile:\n",
    "    \n",
    "    json.dump(end_dict, outfile)  "
   ]
  },
  {
   "cell_type": "code",
   "execution_count": null,
   "metadata": {},
   "outputs": [],
   "source": []
  }
 ],
 "metadata": {
  "kernelspec": {
   "display_name": "Python 3",
   "language": "python",
   "name": "python3"
  },
  "language_info": {
   "codemirror_mode": {
    "name": "ipython",
    "version": 3
   },
   "file_extension": ".py",
   "mimetype": "text/x-python",
   "name": "python",
   "nbconvert_exporter": "python",
   "pygments_lexer": "ipython3",
   "version": "3.8.5"
  }
 },
 "nbformat": 4,
 "nbformat_minor": 4
}
